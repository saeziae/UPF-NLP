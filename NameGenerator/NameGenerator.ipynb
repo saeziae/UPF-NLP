{
  "cells": [
    {
      "cell_type": "markdown",
      "metadata": {
        "id": "_649mvYpXgGi"
      },
      "source": [
        "We will start with the pretrained embedding model `fasttext` to deal with Chinese script."
      ]
    },
    {
      "cell_type": "code",
      "execution_count": null,
      "metadata": {
        "colab": {
          "base_uri": "https://localhost:8080/"
        },
        "id": "YIJFTK-3Nl1U",
        "outputId": "3c2da31f-5283-4996-e70c-5f1b075fdd30"
      },
      "outputs": [
        {
          "output_type": "stream",
          "name": "stdout",
          "text": [
            "--2024-03-04 18:10:46--  https://dl.fbaipublicfiles.com/fasttext/vectors-crawl/cc.zh.300.vec.gz\n",
            "Resolving dl.fbaipublicfiles.com (dl.fbaipublicfiles.com)... 3.162.163.19, 3.162.163.11, 3.162.163.34, ...\n",
            "Connecting to dl.fbaipublicfiles.com (dl.fbaipublicfiles.com)|3.162.163.19|:443... connected.\n",
            "HTTP request sent, awaiting response... 200 OK\n",
            "Length: 1358817100 (1.3G) [binary/octet-stream]\n",
            "Saving to: ‘cc.zh.300.vec.gz’\n",
            "\n",
            "cc.zh.300.vec.gz    100%[===================>]   1.26G   248MB/s    in 9.0s    \n",
            "\n",
            "2024-03-04 18:10:55 (144 MB/s) - ‘cc.zh.300.vec.gz’ saved [1358817100/1358817100]\n",
            "\n"
          ]
        }
      ],
      "source": [
        "!wget https://dl.fbaipublicfiles.com/fasttext/vectors-crawl/cc.zh.300.vec.gz\n",
        "!gunzip cc.zh.300.vec.gz"
      ]
    },
    {
      "cell_type": "markdown",
      "metadata": {
        "id": "q_ce0o9cXzcL"
      },
      "source": [
        "One is the Wu-speaking region's geo name list, size 2000.\n",
        "One is the Cantonese-speaking region's geo name list, size 20000."
      ]
    },
    {
      "cell_type": "code",
      "execution_count": null,
      "metadata": {
        "colab": {
          "base_uri": "https://localhost:8080/"
        },
        "id": "8DG0IExqSYf7",
        "outputId": "b410af00-fab6-4190-d51f-c7cfb5467f40"
      },
      "outputs": [
        {
          "output_type": "stream",
          "name": "stdout",
          "text": [
            "--2024-03-04 18:10:03--  https://raw.githubusercontent.com/saeziae/rime_nguphing/master/nguphing.map.dict.yaml\n",
            "Resolving raw.githubusercontent.com (raw.githubusercontent.com)... 185.199.108.133, 185.199.109.133, 185.199.110.133, ...\n",
            "Connecting to raw.githubusercontent.com (raw.githubusercontent.com)|185.199.108.133|:443... connected.\n",
            "HTTP request sent, awaiting response... 200 OK\n",
            "Length: 14815 (14K) [text/plain]\n",
            "Saving to: ‘nguphing.map.dict.yaml’\n",
            "\n",
            "\rnguphing.map.dict.y   0%[                    ]       0  --.-KB/s               \rnguphing.map.dict.y 100%[===================>]  14.47K  --.-KB/s    in 0s      \n",
            "\n",
            "2024-03-04 18:10:03 (29.3 MB/s) - ‘nguphing.map.dict.yaml’ saved [14815/14815]\n",
            "\n",
            "--2024-03-04 18:10:03--  https://raw.githubusercontent.com/rime/rime-cantonese/main/jyut6ping3.maps.dict.yaml\n",
            "Resolving raw.githubusercontent.com (raw.githubusercontent.com)... 185.199.109.133, 185.199.111.133, 185.199.108.133, ...\n",
            "Connecting to raw.githubusercontent.com (raw.githubusercontent.com)|185.199.109.133|:443... connected.\n",
            "HTTP request sent, awaiting response... 200 OK\n",
            "Length: 51820 (51K) [text/plain]\n",
            "Saving to: ‘jyut6ping3.maps.dict.yaml’\n",
            "\n",
            "jyut6ping3.maps.dic 100%[===================>]  50.61K  --.-KB/s    in 0.01s   \n",
            "\n",
            "2024-03-04 18:10:04 (4.62 MB/s) - ‘jyut6ping3.maps.dict.yaml’ saved [51820/51820]\n",
            "\n",
            "--2024-03-04 18:10:04--  https://raw.githubusercontent.com/wainshine/Chinese-Names-Corpus/master/Chinese_Names_Corpus/Chinese_Names_Corpus%EF%BC%88120W%EF%BC%89.txt\n",
            "Resolving raw.githubusercontent.com (raw.githubusercontent.com)... 185.199.108.133, 185.199.109.133, 185.199.110.133, ...\n",
            "Connecting to raw.githubusercontent.com (raw.githubusercontent.com)|185.199.108.133|:443... connected.\n",
            "HTTP request sent, awaiting response... 200 OK\n",
            "Length: 12056489 (11M) [text/plain]\n",
            "Saving to: ‘Chinese_Names_Corpus（120W）.txt’\n",
            "\n",
            "Chinese_Names_Corpu 100%[===================>]  11.50M  --.-KB/s    in 0.1s    \n",
            "\n",
            "2024-03-04 18:10:04 (116 MB/s) - ‘Chinese_Names_Corpus（120W）.txt’ saved [12056489/12056489]\n",
            "\n"
          ]
        }
      ],
      "source": [
        "!wget https://raw.githubusercontent.com/saeziae/rime_nguphing/master/nguphing.map.dict.yaml\n",
        "!wget https://raw.githubusercontent.com/rime/rime-cantonese/main/jyut6ping3.maps.dict.yaml\n",
        "!wget 'https://raw.githubusercontent.com/wainshine/Chinese-Names-Corpus/master/Chinese_Names_Corpus/Chinese_Names_Corpus%EF%BC%88120W%EF%BC%89.txt'"
      ]
    },
    {
      "cell_type": "code",
      "source": [
        "corpus=\"nguphing.map.dict.yaml\" #2k\n",
        "#corpus=\"jyut6ping3.maps.dict.yaml\" #20k\n",
        "#corpus=\"Chinese_Names_Corpus（120W）.txt\" #1m2"
      ],
      "metadata": {
        "id": "8IzivdF5WmhX"
      },
      "execution_count": null,
      "outputs": []
    },
    {
      "cell_type": "code",
      "execution_count": null,
      "metadata": {
        "colab": {
          "base_uri": "https://localhost:8080/"
        },
        "id": "J_QhAlk1SlLJ",
        "outputId": "084c5251-a64d-44f1-ca9a-ed8e3bd32b7d"
      },
      "outputs": [
        {
          "output_type": "stream",
          "name": "stdout",
          "text": [
            "['上海', '黃浦', '南京東路', '外灘', '半淞園路', '小東門', '豫園', '老西門', '五里橋', '打浦橋']\n"
          ]
        }
      ],
      "source": [
        "names=[]\n",
        "import random\n",
        "'''\n",
        "with open(corpus,\"r\",encoding=\"utf-8\") as f:\n",
        "  x=f.readlines()[3:]\n",
        "  names=[i.rstrip() for i in x]\n",
        "\n",
        "random.shuffle(names)\n",
        "names=names[:10000]\n",
        "'''\n",
        "# nguphing.map.dict.yaml is too small, try jyut6ping3.maps.dict.yaml\n",
        "with open(corpus,\"r\",encoding=\"utf-8\") as f:\n",
        "  while True:\n",
        "    x=f.readline()\n",
        "    if x[0] == \".\": break # Contents start after \"...\"/blank line\n",
        "  while True:\n",
        "    x=f.readline()\n",
        "    if not x: break\n",
        "    if x.rstrip() != \"\":\n",
        "      names.append(x.split(\"\\t\")[0].rstrip()) # The first column of the TSV list is needed\n",
        "\n",
        "print(names[:10])"
      ]
    },
    {
      "cell_type": "code",
      "source": [
        "import re\n",
        "\n",
        "def filter_used_chinese_characters(file_path):\n",
        "    with open(file_path, 'r', encoding='utf-8') as file:\n",
        "        text = file.read()\n",
        "    chinese_characters = re.findall(r'[\\u4e00-\\u9fff]', text)\n",
        "    filtered_text = ''.join(chinese_characters)\n",
        "    return tuple(filtered_text)\n",
        "\n",
        "filtered_characters = filter_used_chinese_characters(corpus)"
      ],
      "metadata": {
        "id": "qmKVUmJzLxwT"
      },
      "execution_count": null,
      "outputs": []
    },
    {
      "cell_type": "code",
      "execution_count": null,
      "metadata": {
        "id": "MeLEO-IcP4Vk"
      },
      "outputs": [],
      "source": [
        "import numpy as np\n",
        "from gensim.models.keyedvectors import KeyedVectors\n",
        "ft = KeyedVectors.load_word2vec_format('cc.zh.300.vec', limit=500000)"
      ]
    },
    {
      "cell_type": "code",
      "source": [
        "filtered_embeddings = {}\n",
        "for word in ft.index_to_key:\n",
        "    if word in filtered_characters and len(word) == 1:\n",
        "        filtered_embeddings[word] = ft[word]\n",
        "\n",
        "filtered_embeddings['。'] = np.zeros(300) #end of word indicator\n",
        "\n",
        "#A dirty work-around to read filtered_embeddings as keyedVectors\n",
        "output_file_path = 'filtered_embeddings.vec'\n",
        "with open(output_file_path, 'w', encoding='utf-8') as f:\n",
        "    # Write the header containing the number of vectors and their dimensionality\n",
        "    f.write(f\"{len(filtered_embeddings)} 300\\n\")\n",
        "\n",
        "    # Write each word and its corresponding embedding vector\n",
        "    for word, vector in filtered_embeddings.items():\n",
        "        f.write(f\"{word} {' '.join(str(v) for v in vector)}\\n\")\n",
        "ft = KeyedVectors.load_word2vec_format(output_file_path)"
      ],
      "metadata": {
        "id": "ELrSFLbLFUql"
      },
      "execution_count": null,
      "outputs": []
    },
    {
      "cell_type": "code",
      "execution_count": null,
      "metadata": {
        "id": "AAg2VS1qSA5s"
      },
      "outputs": [],
      "source": [
        "# Function to convert characters to embeddings\n",
        "def char_to_vector(char):\n",
        "    try:\n",
        "        return ft[char]\n",
        "    except KeyError:\n",
        "        # If character not found in embeddings, return a zero vector\n",
        "        return np.zeros(300)\n",
        "#char_to_vector(\"學\")"
      ]
    },
    {
      "cell_type": "code",
      "execution_count": null,
      "metadata": {
        "id": "ITDIqWzKp1HI",
        "outputId": "ebbe8895-0ca7-4b7b-aa6d-1aee09f96ff7",
        "colab": {
          "base_uri": "https://localhost:8080/"
        }
      },
      "outputs": [
        {
          "output_type": "stream",
          "name": "stdout",
          "text": [
            "torch.Size([5596, 4, 300]) torch.Size([5596, 300])\n",
            "torch.Size([308, 4, 300]) torch.Size([308, 300])\n",
            "torch.Size([307, 4, 300]) torch.Size([307, 300])\n"
          ]
        }
      ],
      "source": [
        "import torch\n",
        "#taken from our example in class, modified\n",
        "words=names\n",
        "# build the dataset\n",
        "block_size = 4 # context length: how many characters do we take to predict the next one?\n",
        "\n",
        "def build_dataset(words):\n",
        "  X, Y = [], []\n",
        "  for w in words:\n",
        "    context = [[0]*300] * block_size\n",
        "    for ch in w+\"。\":\n",
        "      ix = char_to_vector(ch)\n",
        "      X.append(context)\n",
        "      Y.append(ix)\n",
        "      context = context[1:] + [ix] # crop and append\n",
        "  X=np.array(X)\n",
        "  Y=np.array(Y)\n",
        "  X = torch.tensor(X)\n",
        "  Y = torch.tensor(Y)\n",
        "  X = X.float()\n",
        "  Y = Y.float()\n",
        "  print(X.shape, Y.shape)\n",
        "  return X, Y\n",
        "\n",
        "random.shuffle(words)\n",
        "m = int(0.9*len(words))\n",
        "n = int(0.95*len(words))\n",
        "\n",
        "Xtr, Ytr = build_dataset(words[:m])\n",
        "Xde, Yde = build_dataset(words[m:n])\n",
        "Xte, Yte = build_dataset(words[n:])\n"
      ]
    },
    {
      "cell_type": "code",
      "execution_count": null,
      "metadata": {
        "id": "hiaBbgZNtLQ4",
        "outputId": "0a347f29-9c33-4557-8e84-d7385502b70a",
        "colab": {
          "base_uri": "https://localhost:8080/"
        }
      },
      "outputs": [
        {
          "output_type": "stream",
          "name": "stdout",
          "text": [
            "Epoch [1/20], Loss: 30.7364, dev Loss: 21.5012\n",
            "Epoch [2/20], Loss: 18.2491, dev Loss: 17.2413\n",
            "Epoch [3/20], Loss: 13.2837, dev Loss: 15.5643\n",
            "Epoch [4/20], Loss: 9.6228, dev Loss: 15.0651\n",
            "Epoch [5/20], Loss: 5.9572, dev Loss: 11.8265\n",
            "Epoch [6/20], Loss: 3.3342, dev Loss: 8.7122\n",
            "Epoch [7/20], Loss: 1.6221, dev Loss: 6.0835\n",
            "Epoch [8/20], Loss: 0.8634, dev Loss: 3.2974\n",
            "Epoch [9/20], Loss: 0.4546, dev Loss: 1.1847\n",
            "Epoch [10/20], Loss: 0.1940, dev Loss: 0.5810\n",
            "Epoch [11/20], Loss: 0.0942, dev Loss: 0.1089\n",
            "Epoch [12/20], Loss: 0.0446, dev Loss: 0.0171\n",
            "Epoch [13/20], Loss: 0.0286, dev Loss: 0.0169\n",
            "Epoch [14/20], Loss: 0.0239, dev Loss: 0.0169\n",
            "Epoch [15/20], Loss: 0.0231, dev Loss: 0.0170\n",
            "Epoch [16/20], Loss: 0.0187, dev Loss: 0.0169\n",
            "Epoch [17/20], Loss: 0.0169, dev Loss: 0.0169\n",
            "Epoch [18/20], Loss: 0.0167, dev Loss: 0.0169\n",
            "Epoch [19/20], Loss: 0.0167, dev Loss: 0.0169\n",
            "Epoch [20/20], Loss: 0.0167, dev Loss: 0.0169\n"
          ]
        }
      ],
      "source": [
        "import torch.nn as nn\n",
        "import torch.optim as optim\n",
        "import torch.nn.functional as F\n",
        "\n",
        "lossi = []\n",
        "stepi = []\n",
        "devlossi = []\n",
        "\n",
        "# Define the RNN model\n",
        "class RNNModel(nn.Module):\n",
        "    def __init__(self, input_size, hidden_size, output_size):\n",
        "        super(RNNModel, self).__init__()\n",
        "        self.rnn = nn.RNN(input_size, hidden_size, batch_first=True)\n",
        "        self.fc = nn.Linear(hidden_size, output_size)\n",
        "\n",
        "    def forward(self, x):\n",
        "        out, _ = self.rnn(x)\n",
        "        out = self.fc(out[:, -1, :])  # Get the output of the last time step\n",
        "        return out*100.0\n",
        "\n",
        "# Initialize the model\n",
        "input_size = 300\n",
        "hidden_size = 300\n",
        "output_size = 300\n",
        "\n",
        "model = RNNModel(input_size, hidden_size, output_size)\n",
        "\n",
        "criterion = nn.MSELoss() # see note on the next block\n",
        "optimizer = optim.Adam(model.parameters(), lr=0.00001)\n",
        "\n",
        "# Training loop\n",
        "num_epochs = 20\n",
        "batch_size = 32\n",
        "inputs = Xtr\n",
        "targets = Ytr\n",
        "inputsd = Xde\n",
        "targetsd = Yde\n",
        "\n",
        "for epoch in range(num_epochs):\n",
        "    model.train()  # Set the model to train mode\n",
        "    running_loss = 0.0\n",
        "    random.shuffle(inputs)\n",
        "    for i in range(0, len(inputs), batch_size):\n",
        "        batch_inputs = inputs[i:i+batch_size]\n",
        "        batch_targets = targets[i:i+batch_size]\n",
        "        optimizer.zero_grad()\n",
        "        outputs = model(batch_inputs)\n",
        "        loss = criterion(outputs, batch_targets)\n",
        "        loss.backward()\n",
        "        optimizer.step()\n",
        "\n",
        "        running_loss += loss.item() * batch_inputs.size(0)\n",
        "\n",
        "    epoch_loss = running_loss / len(inputs)\n",
        "\n",
        "    model.eval()\n",
        "    running_loss = 0.0\n",
        "    random.shuffle(inputsd)\n",
        "    with torch.no_grad():\n",
        "      for i in range(0, len(inputsd), batch_size):\n",
        "          batch_inputs = inputsd[i:i+batch_size]\n",
        "          batch_targets = targetsd[i:i+batch_size]\n",
        "          outputs = model(batch_inputs)\n",
        "          loss = criterion(outputs, batch_targets)\n",
        "          running_loss += loss.item() * batch_inputs.size(0)\n",
        "    epoch_loss_dev = running_loss / len(inputsd)\n",
        "\n",
        "    print(f\"Epoch [{epoch+1}/{num_epochs}], Loss: {epoch_loss:.4f}, dev Loss: {epoch_loss_dev:.4f}\")\n",
        "    stepi.append(epoch)\n",
        "    lossi.append(epoch_loss)\n",
        "    devlossi.append(epoch_loss_dev)"
      ]
    },
    {
      "cell_type": "markdown",
      "source": [
        "We are not using cross entropy like the prototype because the prototype saw it as a classification-like task but this is not.\n"
      ],
      "metadata": {
        "id": "pFjGKczDhAyI"
      }
    },
    {
      "cell_type": "code",
      "execution_count": null,
      "metadata": {
        "id": "XAPVUYY4y2ck",
        "outputId": "91b359e9-5d8c-4c1a-fd58-7ade0aeb6ada",
        "colab": {
          "base_uri": "https://localhost:8080/",
          "height": 448
        }
      },
      "outputs": [
        {
          "output_type": "execute_result",
          "data": {
            "text/plain": [
              "[<matplotlib.lines.Line2D at 0x7c663de91ab0>]"
            ]
          },
          "metadata": {},
          "execution_count": 14
        },
        {
          "output_type": "display_data",
          "data": {
            "text/plain": [
              "<Figure size 640x480 with 1 Axes>"
            ],
            "image/png": "[encoded data removed]"
          },
          "metadata": {}
        }
      ],
      "source": [
        "import matplotlib.pyplot as plt\n",
        "plt.plot(stepi, lossi)\n",
        "plt.plot(stepi, devlossi)"
      ]
    },
    {
      "cell_type": "code",
      "source": [
        "torch.save(model.state_dict(), 'model.pth')"
      ],
      "metadata": {
        "id": "NyKfJypX_r8L"
      },
      "execution_count": null,
      "outputs": []
    },
    {
      "cell_type": "code",
      "source": [
        "import random\n",
        "# Evaluation function\n",
        "def evaluate_model(model, criterion, X_test, Y_test, batch_size):\n",
        "    model.eval()\n",
        "    total_loss = 0.0\n",
        "\n",
        "    with torch.no_grad():  # Disable gradient calculation\n",
        "        for i in range(0, len(X_test), batch_size):\n",
        "            batch_inputs = X_test[i:i+batch_size]\n",
        "            batch_targets = Y_test[i:i+batch_size]\n",
        "\n",
        "            outputs = model(batch_inputs)\n",
        "            loss = criterion(outputs, batch_targets)\n",
        "\n",
        "            total_loss += loss.item() * batch_inputs.size(0)\n",
        "\n",
        "    avg_loss = total_loss / len(X_test)\n",
        "    return avg_loss\n",
        "\n",
        "# Evaluate the model\n",
        "test_loss = evaluate_model(model, criterion, Xte, Yte, 1)\n",
        "print(f\"Test Loss: {test_loss:.4f}\")\n"
      ],
      "metadata": {
        "id": "7Cl92JY0jX9Z",
        "outputId": "bd03b306-29a4-4c4f-e4dc-b6252ea0e0f3",
        "colab": {
          "base_uri": "https://localhost:8080/"
        }
      },
      "execution_count": null,
      "outputs": [
        {
          "output_type": "stream",
          "name": "stdout",
          "text": [
            "Test Loss: 11.7391\n"
          ]
        }
      ]
    },
    {
      "cell_type": "code",
      "source": [
        "def embedding_to_word(embedding):\n",
        "    # Get nearest neighbor word\n",
        "    word = ft.most_similar(embedding)\n",
        "    return word\n",
        "\n",
        "def generate_words(model, length=10):\n",
        "    generated_word = \"\"\n",
        "    input_chars = [np.random.rand(300),np.random.rand(300),np.random.rand(300)]  # Randomly generate a vector as starting character\n",
        "\n",
        "    with torch.no_grad():\n",
        "        for _ in range(length):\n",
        "            input_tensor = torch.tensor([input_chars], dtype=torch.float)\n",
        "            output = model(input_tensor)\n",
        "            next_char_embedding = output.squeeze().numpy()\n",
        "            next_char = embedding_to_word(next_char_embedding)[0][0]\n",
        "            generated_word += next_char\n",
        "            input_chars = input_chars[1:] + [char_to_vector(next_char)]\n",
        "            if next_char == \"。\": break\n",
        "    return generated_word\n",
        "\n",
        "# Example usage:\n",
        "for _ in range(20):\n",
        "  generated_word = generate_words(model,random.randint(1,6))\n",
        "  print(generated_word)\n",
        "  #print(len(generated_word))\n"
      ],
      "metadata": {
        "id": "h0a4MKiThQCA",
        "outputId": "baf4e867-53b9-4c77-fc80-42c11693a99a",
        "colab": {
          "base_uri": "https://localhost:8080/"
        }
      },
      "execution_count": null,
      "outputs": [
        {
          "output_type": "stream",
          "name": "stdout",
          "text": [
            "首臨侖學沐震\n",
            "疇戰疇\n",
            "關滸勝柏崙堰\n",
            "一劍\n",
            "疇\n",
            "盈臘站疇界\n",
            "盈滸勝柏\n",
            "蛟滄欽履餘\n",
            "疇臨侖鞋\n",
            "戰角蘇\n",
            "一\n",
            "蘇嶼琳秋嶼段\n",
            "疇滸疇\n",
            "貴涯共麥寺\n",
            "疇\n",
            "運疇全洪\n",
            "宣\n",
            "疇寶碼荷\n",
            "疇戰杜磐\n",
            "劍欽全黎\n"
          ]
        },
        {
          "output_type": "stream",
          "name": "stderr",
          "text": [
            "<ipython-input-17-9be8217b8e72>:12: UserWarning: Creating a tensor from a list of numpy.ndarrays is extremely slow. Please consider converting the list to a single numpy.ndarray with numpy.array() before converting to a tensor. (Triggered internally at ../torch/csrc/utils/tensor_new.cpp:261.)\n",
            "  input_tensor = torch.tensor([input_chars], dtype=torch.float)\n",
            "/usr/local/lib/python3.10/dist-packages/gensim/models/keyedvectors.py:849: RuntimeWarning: invalid value encountered in divide\n",
            "  dists = dot(self.vectors[clip_start:clip_end], mean) / self.norms[clip_start:clip_end]\n"
          ]
        }
      ]
    },
    {
      "cell_type": "markdown",
      "source": [
        "These generated names are somewhat not non sense, but lack natualness."
      ],
      "metadata": {
        "id": "euzfqU8vdZbU"
      }
    }
  ],
  "metadata": {
    "colab": {
      "provenance": [],
      "gpuType": "T4",
      "toc_visible": true
    },
    "kernelspec": {
      "display_name": "Python 3",
      "name": "python3"
    },
    "language_info": {
      "name": "python"
    },
    "accelerator": "GPU"
  },
  "nbformat": 4,
  "nbformat_minor": 0
}