{
  "nbformat": 4,
  "nbformat_minor": 0,
  "metadata": {
    "colab": {
      "provenance": [],
      "toc_visible": true,
      "authorship_tag": "ABX9TyP7LP1SnO62BPYVhq5yg/cG"
    },
    "kernelspec": {
      "name": "python3",
      "display_name": "Python 3"
    },
    "language_info": {
      "name": "python"
    }
  },
  "cells": [
    {
      "cell_type": "markdown",
      "source": [
        "## Fetch content used\n",
        "\n",
        "Fetch content from website.\n",
        "\n",
        "Archives are used to keep version.\n",
        "\n",
        "Genre: news (column)\n",
        "\n",
        "Languages: English, Chinese(Simplified)."
      ],
      "metadata": {
        "id": "94SykyTEwI8M"
      }
    },
    {
      "cell_type": "code",
      "source": [
        "#the function to extract content from web\n",
        "import requests\n",
        "from lxml import html\n",
        "def fetchWebpage(url, xpath_expression):\n",
        "    # Fetch the webpage\n",
        "    response = requests.get(url)\n",
        "    if response.status_code == 200:\n",
        "        # Parse the HTML content\n",
        "        tree = html.fromstring(response.content)\n",
        "        # Use XPath to extract content\n",
        "        extracted_content = tree.xpath(xpath_expression)\n",
        "        return extracted_content\n",
        "    else:\n",
        "        print(f\"Failed to fetch the webpage. Status code: {response.status_code}\")\n",
        "        return None\n"
      ],
      "metadata": {
        "id": "ZcpjJg3tnHC1"
      },
      "execution_count": 1,
      "outputs": []
    },
    {
      "cell_type": "code",
      "source": [
        "#the English content\n",
        "urlContentEn='https://web.archive.org/web/20240102011418/https://www.economist.com/asia/2023/12/13/hsiao-bi-khim-is-taiwans-cat-warrior'\n",
        "xpathContentEn='//section[@data-body-id=\"cp2\"]/div/p//text()'\n",
        "x=fetchWebpage(urlContentEn,xpathContentEn)\n",
        "contentEn=''.join(x[5:-9])"
      ],
      "metadata": {
        "id": "w6-qqlM0oFIU"
      },
      "execution_count": 2,
      "outputs": []
    },
    {
      "cell_type": "code",
      "source": [
        "urlContentZh='https://web.archive.org/web/20240203015903/https://telegra.ph/%E8%B4%BA%E7%8F%91%E5%A4%9C%E5%A4%9C%E7%A7%80%E5%8F%97%E5%8F%B0%E5%B9%B4%E8%BD%BB%E4%BA%BA%E7%83%AD%E6%8D%A7%E5%A4%A7%E9%80%89%E5%89%8D%E5%90%8E%E9%82%A3%E4%B8%AA%E8%8D%A4%E7%B4%A0%E4%B8%8D%E5%BF%8C%E6%B2%A1%E5%9C%A8%E6%80%95%E7%9A%84%E6%B0%94%E5%9C%BA---%E7%AB%AF%E4%BC%A0%E5%AA%92---%E6%9C%80%E6%96%B0-01-16-2'\n",
        "xpathContentZh='//article//p//text()'\n",
        "x=fetchWebpage(urlContentZh,xpathContentZh)\n",
        "contentZh=''.join(x[2:-5])"
      ],
      "metadata": {
        "id": "r5VFM19QoHbU"
      },
      "execution_count": 3,
      "outputs": []
    },
    {
      "cell_type": "code",
      "source": [
        "#Remove content in brackets\n",
        "import re\n",
        "contentEn = re.sub(r'\\(.*?\\)','',contentEn)\n",
        "contentZh = re.sub(r'（.*?\\）','',contentZh)"
      ],
      "metadata": {
        "id": "IQgiNPIzvSgT"
      },
      "execution_count": 4,
      "outputs": []
    },
    {
      "cell_type": "markdown",
      "source": [
        "## Processing English content\n",
        "\n",
        "This include the following steps:\n",
        "\n",
        "- Tokenising\n",
        "- Count the frequency\n",
        "- Count the lenth of word\n",
        "- Draw the table\n",
        "\n",
        "the data structure is planned below:\n",
        "`[[\"word\",freq,length]...]`"
      ],
      "metadata": {
        "id": "wowG10T5wyof"
      }
    },
    {
      "cell_type": "code",
      "source": [
        "enWords=re.findall(r'\\w+',contentEn.lower()) #doing it manually is just enough :)\n",
        "enFreq = {}\n",
        "for word in enWords:\n",
        "    if word in enFreq:\n",
        "        enFreq[word] += 1\n",
        "    else:\n",
        "        enFreq[word] = 1\n",
        "enFreqLen = [[key,value,len(key)] for key, value in enFreq.items()]"
      ],
      "metadata": {
        "id": "jtSBuV432eRG"
      },
      "execution_count": 5,
      "outputs": []
    },
    {
      "cell_type": "code",
      "source": [
        "import matplotlib.pyplot as plt\n",
        "_, freq, leng = zip(*enFreqLen)\n",
        "plt.scatter(leng,freq)\n",
        "plt.xlabel('len')\n",
        "plt.ylabel('freq')\n",
        "plt.yscale('log')\n",
        "plt.show()"
      ],
      "metadata": {
        "colab": {
          "base_uri": "https://localhost:8080/",
          "height": 449
        },
        "id": "BO5Not8P4Pm9",
        "outputId": "9de723cd-fa53-4d29-bf15-4ecb89a96368"
      },
      "execution_count": 6,
      "outputs": [
        {
          "output_type": "display_data",
          "data": {
            "text/plain": [
              "<Figure size 640x480 with 1 Axes>"
            ],
            "image/png": "[encoded data removed]"
          },
          "metadata": {}
        }
      ]
    },
    {
      "cell_type": "markdown",
      "source": [
        "## Processing Chinese content\n",
        "\n",
        "This include the following steps:\n",
        "\n",
        "- Tokenising (Chinese splitting word)\n",
        "- Count the frequency\n",
        "- Count the lenth of word\n",
        "- Draw the table\n",
        "\n",
        "the data structure is planned below:\n",
        "`[[\"word\",freq,length]...]`\n",
        "\n",
        "In chinese there is not space between words, so we have to use [a library](https://github.com/fxsjy/jieba) first to split words."
      ],
      "metadata": {
        "id": "rusag3U69hrP"
      }
    },
    {
      "cell_type": "code",
      "source": [
        "import jieba\n",
        "zhWords = jieba.cut(contentZh,use_paddle=True) #use jieba to cut words\n",
        "zhWords = list(filter(lambda e: bool(re.fullmatch(r'[\\u3400-\\u4dbf\\u4e00-\\u9fff]+',e)), zhWords)) #remove non Chinese script items, incuding puctuations and English words"
      ],
      "metadata": {
        "colab": {
          "base_uri": "https://localhost:8080/"
        },
        "id": "V2fWOIjg90Nu",
        "outputId": "27bdc432-6752-4329-bdb5-2564f8e9df7d"
      },
      "execution_count": 7,
      "outputs": [
        {
          "output_type": "stream",
          "name": "stderr",
          "text": [
            "Building prefix dict from the default dictionary ...\n",
            "DEBUG:jieba:Building prefix dict from the default dictionary ...\n",
            "Dumping model to file cache /tmp/jieba.cache\n",
            "DEBUG:jieba:Dumping model to file cache /tmp/jieba.cache\n",
            "Loading model cost 2.012 seconds.\n",
            "DEBUG:jieba:Loading model cost 2.012 seconds.\n",
            "Prefix dict has been built successfully.\n",
            "DEBUG:jieba:Prefix dict has been built successfully.\n"
          ]
        }
      ]
    },
    {
      "cell_type": "code",
      "source": [
        "zhFreq = {}\n",
        "for word in zhWords:\n",
        "    if word in zhFreq:\n",
        "        zhFreq[word] += 1\n",
        "    else:\n",
        "        zhFreq[word] = 1\n",
        "zhFreqLen = [[key,value,len(key)] for key, value in zhFreq.items()]"
      ],
      "metadata": {
        "id": "rA4c6eZNDIh4"
      },
      "execution_count": 8,
      "outputs": []
    },
    {
      "cell_type": "code",
      "source": [
        "import matplotlib.pyplot as plt\n",
        "_, freq, leng = zip(*zhFreqLen)\n",
        "plt.scatter(leng,freq)\n",
        "plt.xlabel('len')\n",
        "plt.ylabel('freq')\n",
        "plt.yscale('log')\n",
        "plt.show()"
      ],
      "metadata": {
        "colab": {
          "base_uri": "https://localhost:8080/",
          "height": 449
        },
        "id": "Dqc8slEfDQIr",
        "outputId": "33521e97-1441-465a-83c8-9263b0f9c247"
      },
      "execution_count": 9,
      "outputs": [
        {
          "output_type": "display_data",
          "data": {
            "text/plain": [
              "<Figure size 640x480 with 1 Axes>"
            ],
            "image/png": "[encoded data removed]"
          },
          "metadata": {}
        }
      ]
    }
  ]
}